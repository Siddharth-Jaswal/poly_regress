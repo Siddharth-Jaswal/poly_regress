{
 "cells": [
  {
   "cell_type": "code",
   "execution_count": 55,
   "id": "87415103",
   "metadata": {},
   "outputs": [
    {
     "data": {
      "text/plain": [
       "'\\nSuppose I have a linear equation\\ny = c + mx\\nI want to compute m and c to derive the linear equation\\n\\nSo I want to model SLR - Simple Linear Regression\\n\\nOne input feature\\nContinous output against that one single feature\\n'"
      ]
     },
     "execution_count": 55,
     "metadata": {},
     "output_type": "execute_result"
    }
   ],
   "source": [
    "# what I want to achieve\n",
    "'''\n",
    "Suppose I have a linear equation\n",
    "y = c + mx\n",
    "I want to compute m and c to derive the linear equation\n",
    "\n",
    "So I want to model SLR - Simple Linear Regression\n",
    "\n",
    "One input feature\n",
    "Continous output against that one single feature\n",
    "'''"
   ]
  },
  {
   "cell_type": "code",
   "execution_count": 56,
   "id": "e659b75f",
   "metadata": {},
   "outputs": [],
   "source": [
    "# let's see what we require off that bat\n",
    "import pandas as pd\n",
    "import numpy as np\n",
    "from sklearn.model_selection import train_test_split\n",
    "from sklearn.preprocessing import StandardScaler\n",
    "from sklearn.linear_model import LinearRegression\n",
    "from sklearn.metrics import r2_score"
   ]
  },
  {
   "cell_type": "code",
   "execution_count": 57,
   "id": "fef6fa4e",
   "metadata": {},
   "outputs": [],
   "source": [
    "# lets first create dataset\n",
    "\n",
    "def y(x, m, c):\n",
    "    return c + m * x\n",
    "\n",
    "x = [ x for x in range(0, 100)]\n",
    "y = [ y(x, 1.32, -1.97) for x in x]\n",
    "\n",
    "\n",
    "# create a data frame\n",
    "df = pd.DataFrame({\n",
    "    'X' : x,\n",
    "    'Y' : y\n",
    "})\n"
   ]
  },
  {
   "cell_type": "code",
   "execution_count": 58,
   "id": "89789de8",
   "metadata": {},
   "outputs": [],
   "source": [
    "# fetch input features and output label\n",
    "X = df.drop('Y', axis = 1).to_numpy()\n",
    "Y = df['Y'].to_numpy()\n",
    "\n",
    "X_train, X_test, Y_train, Y_test = train_test_split(\n",
    "    X, Y, random_state=42, test_size=0.2\n",
    ")\n",
    "\n",
    "scaler = StandardScaler()\n",
    "\n",
    "X_train_scaled = scaler.fit_transform(X_train)\n",
    "X_test_scaled = scaler.transform(X_test)"
   ]
  },
  {
   "cell_type": "code",
   "execution_count": 59,
   "id": "48262145",
   "metadata": {},
   "outputs": [
    {
     "data": {
      "text/plain": [
       "Text(0.5, 1.0, 'Observing linearity of y vs x')"
      ]
     },
     "execution_count": 59,
     "metadata": {},
     "output_type": "execute_result"
    },
    {
     "data": {
      "image/png": "[encoded data removed]",
      "text/plain": [
       "<Figure size 640x480 with 1 Axes>"
      ]
     },
     "metadata": {},
     "output_type": "display_data"
    }
   ],
   "source": [
    "# actually we should see if the y varies linearly with x\n",
    "import matplotlib.pyplot as plt\n",
    "\n",
    "plt.scatter(X, Y)\n",
    "plt.xlabel(\"x\")\n",
    "plt.ylabel(\"y\")\n",
    "plt.title(\"Observing linearity of y vs x\")"
   ]
  },
  {
   "cell_type": "code",
   "execution_count": 61,
   "id": "b656682e",
   "metadata": {},
   "outputs": [],
   "source": [
    "model = LinearRegression(fit_intercept=True)\n",
    "\n",
    "model.fit(X_train, Y_train)\n",
    "\n",
    "\n",
    "def predictor(x:list):\n",
    "    x = np.array(x).reshape(1, -1)\n",
    "    x_scaled = scaler.transform(x)\n",
    "    return model.predict(x_scaled)   "
   ]
  },
  {
   "cell_type": "code",
   "execution_count": null,
   "id": "998f3755",
   "metadata": {},
   "outputs": [
    {
     "data": {
      "text/plain": [
       "1.0"
      ]
     },
     "execution_count": 77,
     "metadata": {},
     "output_type": "execute_result"
    }
   ],
   "source": [
    "# let's check accuracy stats\n",
    "\n",
    "y_train_pred = model.predict(X_train)\n",
    "y_test_pred = model.predict(X_test)\n",
    "\n",
    "train_score = r2_score(Y_train, y_train_pred)\n",
    "\n",
    "test_Score = r2_score(Y_test, y_test_pred)"
   ]
  },
  {
   "cell_type": "code",
   "execution_count": 79,
   "id": "1e0665b4",
   "metadata": {},
   "outputs": [
    {
     "data": {
      "text/plain": [
       "(np.float64(-1.9699999999999989), array([1.32]))"
      ]
     },
     "execution_count": 79,
     "metadata": {},
     "output_type": "execute_result"
    }
   ],
   "source": [
    "intercept = model.intercept_\n",
    "coeff = model.coef_\n",
    "intercept, coeff"
   ]
  }
 ],
 "metadata": {
  "kernelspec": {
   "display_name": ".venv",
   "language": "python",
   "name": "python3"
  },
  "language_info": {
   "codemirror_mode": {
    "name": "ipython",
    "version": 3
   },
   "file_extension": ".py",
   "mimetype": "text/x-python",
   "name": "python",
   "nbconvert_exporter": "python",
   "pygments_lexer": "ipython3",
   "version": "3.13.7"
  }
 },
 "nbformat": 4,
 "nbformat_minor": 5
}
